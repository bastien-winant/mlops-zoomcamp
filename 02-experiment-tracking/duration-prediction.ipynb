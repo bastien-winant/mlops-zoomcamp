{
 "cells": [
  {
   "cell_type": "markdown",
   "id": "4714171a",
   "metadata": {},
   "source": [
    "# Training a ride duration prediction model"
   ]
  },
  {
   "cell_type": "code",
   "id": "81d3f186",
   "metadata": {
    "ExecuteTime": {
     "end_time": "2025-08-23T21:35:16.380228Z",
     "start_time": "2025-08-23T21:35:13.816454Z"
    }
   },
   "source": [
    "import numpy as np\n",
    "import pandas as pd\n",
    "import matplotlib.pyplot as plt\n",
    "import seaborn as sns\n",
    "from sklearn.preprocessing import OneHotEncoder\n",
    "from sklearn.linear_model import LinearRegression, Lasso, Ridge\n",
    "from sklearn.metrics import root_mean_squared_error\n",
    "import mlflow\n",
    "import xgboost as xgb\n",
    "from hyperopt import hp, tpe, Trials, STATUS_OK, fmin\n",
    "from hyperopt.pyll import scope"
   ],
   "outputs": [
    {
     "name": "stderr",
     "output_type": "stream",
     "text": [
      "/Users/bastienwinant/Desktop/projects/mlops-zoomcamp/.venv/lib/python3.9/site-packages/urllib3/__init__.py:35: NotOpenSSLWarning: urllib3 v2 only supports OpenSSL 1.1.1+, currently the 'ssl' module is compiled with 'LibreSSL 2.8.3'. See: https://github.com/urllib3/urllib3/issues/3020\n",
      "  warnings.warn(\n"
     ]
    }
   ],
   "execution_count": 1
  },
  {
   "metadata": {
    "ExecuteTime": {
     "end_time": "2025-08-23T21:35:17.331917Z",
     "start_time": "2025-08-23T21:35:16.389837Z"
    }
   },
   "cell_type": "code",
   "source": [
    "# mlflow ui --backend-store-uri sqlite:///mlflow.db\n",
    "mlflow.set_tracking_uri(\"sqlite:///mlflow.db\")\n",
    "mlflow.set_experiment(\"nyc-taxi-experiment\")"
   ],
   "id": "5403c779e085faba",
   "outputs": [
    {
     "name": "stderr",
     "output_type": "stream",
     "text": [
      "2025/08/23 23:35:17 INFO mlflow.store.db.utils: Creating initial MLflow database tables...\n",
      "2025/08/23 23:35:17 INFO mlflow.store.db.utils: Updating database tables\n",
      "INFO  [alembic.runtime.migration] Context impl SQLiteImpl.\n",
      "INFO  [alembic.runtime.migration] Will assume non-transactional DDL.\n",
      "INFO  [alembic.runtime.migration] Context impl SQLiteImpl.\n",
      "INFO  [alembic.runtime.migration] Will assume non-transactional DDL.\n",
      "2025/08/23 23:35:17 INFO mlflow.tracking.fluent: Experiment with name 'nyc-taxi-experiment' does not exist. Creating a new experiment.\n"
     ]
    },
    {
     "data": {
      "text/plain": [
       "<Experiment: artifact_location='/Users/bastienwinant/Desktop/projects/mlops-zoomcamp/02-experiment-tracking/mlruns/1', creation_time=1755984917299, experiment_id='1', last_update_time=1755984917299, lifecycle_stage='active', name='nyc-taxi-experiment', tags={}>"
      ]
     },
     "execution_count": 2,
     "metadata": {},
     "output_type": "execute_result"
    }
   ],
   "execution_count": 2
  },
  {
   "metadata": {
    "ExecuteTime": {
     "end_time": "2025-08-23T21:35:17.552932Z",
     "start_time": "2025-08-23T21:35:17.547006Z"
    }
   },
   "cell_type": "code",
   "source": [
    "def one_hot_encoding(df, categories, enc=None):\n",
    "\tdf_categorical = df[categories].reset_index(drop=True)\n",
    "\tX_numerical = df.drop(categories, axis=1).reset_index(drop=True)\n",
    "\n",
    "\tif not enc:\n",
    "\t\tenc = OneHotEncoder(dtype=np.int32, handle_unknown='ignore')\n",
    "\t\tenc.fit(df_categorical)\n",
    "\n",
    "\tX_categorical = pd.DataFrame(\n",
    "\t\tdata=enc.transform(df_categorical).toarray(),\n",
    "\t\tcolumns=enc.get_feature_names_out()\n",
    "\t)\n",
    "\n",
    "\tX = pd.concat([X_numerical, X_categorical], axis=1)\n",
    "\n",
    "\treturn X, enc"
   ],
   "id": "abfa285afe68e2b8",
   "outputs": [],
   "execution_count": 3
  },
  {
   "cell_type": "code",
   "id": "4c951909",
   "metadata": {
    "ExecuteTime": {
     "end_time": "2025-08-23T21:35:17.571788Z",
     "start_time": "2025-08-23T21:35:17.565476Z"
    }
   },
   "source": [
    "def preprocessing(url, categorical, numerical, enc=None):\n",
    "\t# read in the raw data\n",
    "\tdf = pd.read_parquet(url)\n",
    "\tdf[categorical] = df[categorical].astype(str)\n",
    "\n",
    "    # compute duration of a trip in minutes and minutes\n",
    "\tdf['duration'] = (df.lpep_dropoff_datetime - df.lpep_pickup_datetime) / pd.Timedelta(minutes=1)\n",
    "\tdf = df.loc[(df.duration >= 1) & (df.duration <= 60)]\n",
    "\n",
    "\t# df['PU_DO'] = df.PULocationID.str.cat(df.DOLocationID, sep='_')\n",
    "\t# categorical = ['PU_DO']\n",
    "\n",
    "\tdf = df[categorical + numerical + ['duration']]\n",
    "\tX, enc = one_hot_encoding(df, categorical, enc=enc)\n",
    "\n",
    "\ty = X.duration\n",
    "\tX.drop('duration', axis=1, inplace=True)\n",
    "\n",
    "\treturn X.values, y.values, enc"
   ],
   "outputs": [],
   "execution_count": 4
  },
  {
   "cell_type": "code",
   "id": "8af981af",
   "metadata": {
    "ExecuteTime": {
     "end_time": "2025-08-23T21:35:17.585687Z",
     "start_time": "2025-08-23T21:35:17.581884Z"
    }
   },
   "source": [
    "url_train = \"https://d37ci6vzurychx.cloudfront.net/trip-data/green_tripdata_2021-01.parquet\"\n",
    "url_val = \"https://d37ci6vzurychx.cloudfront.net/trip-data/green_tripdata_2021-02.parquet\""
   ],
   "outputs": [],
   "execution_count": 5
  },
  {
   "cell_type": "code",
   "id": "ae45abb4",
   "metadata": {
    "ExecuteTime": {
     "end_time": "2025-08-23T21:35:17.606344Z",
     "start_time": "2025-08-23T21:35:17.602017Z"
    }
   },
   "source": [
    "categorical = ['PULocationID', 'DOLocationID']\n",
    "numerical = ['trip_distance']"
   ],
   "outputs": [],
   "execution_count": 6
  },
  {
   "cell_type": "code",
   "id": "310645d6",
   "metadata": {
    "ExecuteTime": {
     "end_time": "2025-08-23T21:35:19.662772Z",
     "start_time": "2025-08-23T21:35:17.616580Z"
    }
   },
   "source": [
    "X_train, y_train, enc = preprocessing(\n",
    "\turl=url_train, categorical=categorical, numerical=numerical, enc=None)\n",
    "X_val, y_val, _ = preprocessing(\n",
    "\turl=url_val, categorical=categorical, numerical=numerical, enc=enc)"
   ],
   "outputs": [],
   "execution_count": 7
  },
  {
   "metadata": {},
   "cell_type": "markdown",
   "source": "### Logging Basics",
   "id": "2c918877ef41438"
  },
  {
   "metadata": {
    "ExecuteTime": {
     "end_time": "2025-08-23T21:35:19.708943Z",
     "start_time": "2025-08-23T21:35:19.695893Z"
    }
   },
   "cell_type": "code",
   "source": "mlflow.xgboost.autolog(disable=True)",
   "id": "6424e5fbaff95d70",
   "outputs": [],
   "execution_count": 8
  },
  {
   "metadata": {
    "ExecuteTime": {
     "end_time": "2025-08-23T21:35:20.940816Z",
     "start_time": "2025-08-23T21:35:19.716887Z"
    }
   },
   "cell_type": "code",
   "source": [
    "alpha = .01\n",
    "lasso = Lasso(alpha)\n",
    "lasso.fit(X_train, y_train)\n",
    "y_pred = lasso.predict(X_val)\n",
    "rmse = root_mean_squared_error(y_val, y_pred)"
   ],
   "id": "6839d26ccc5ed8b3",
   "outputs": [],
   "execution_count": 9
  },
  {
   "metadata": {
    "ExecuteTime": {
     "end_time": "2025-08-23T21:35:21.810777Z",
     "start_time": "2025-08-23T21:35:20.983655Z"
    }
   },
   "cell_type": "code",
   "source": [
    "with mlflow.start_run():\n",
    "\tmlflow.set_tag(\"developer\", \"bastien winant\")\n",
    "\n",
    "\tmlflow.log_param(\"train-data\", url_train)\n",
    "\tmlflow.log_param(\"valid-data\", url_val)\n",
    "\n",
    "\tmlflow.log_param(\"alpha\", alpha)\n",
    "\n",
    "\tmlflow.log_metric(\"rmse\", rmse)"
   ],
   "id": "1b1f6056d7b1d1cd",
   "outputs": [],
   "execution_count": 10
  },
  {
   "metadata": {},
   "cell_type": "markdown",
   "source": "### Hyperparameter Tuning",
   "id": "a3bb1e5ae2513474"
  },
  {
   "metadata": {
    "ExecuteTime": {
     "end_time": "2025-08-23T21:35:22.618112Z",
     "start_time": "2025-08-23T21:35:21.849794Z"
    }
   },
   "cell_type": "code",
   "source": [
    "train = xgb.DMatrix(data=X_train, label=y_train)\n",
    "valid = xgb.DMatrix(data=X_val, label=y_val)"
   ],
   "id": "a8bd82483752061d",
   "outputs": [],
   "execution_count": 11
  },
  {
   "metadata": {
    "ExecuteTime": {
     "end_time": "2025-08-23T21:35:22.652897Z",
     "start_time": "2025-08-23T21:35:22.646885Z"
    }
   },
   "cell_type": "code",
   "source": [
    "def objective(params):\n",
    "\tbooster = xgb.train(\n",
    "\t\tparams=params,\n",
    "\t\tdtrain=train,\n",
    "\t\tnum_boost_round=1000,\n",
    "\t\tevals=[(valid, \"validation\")],\n",
    "\t\tearly_stopping_rounds=50,\n",
    "\t\tverbose_eval=300\n",
    "\t)\n",
    "\n",
    "\ty_pred = booster.predict(valid)\n",
    "\trmse = root_mean_squared_error(y_val, y_pred)\n",
    "\n",
    "\twith mlflow.start_run():\n",
    "\t\tmlflow.set_tag(\"model\", \"xgboost\")\n",
    "\t\tmlflow.log_params(params)\n",
    "\t\tmlflow.log_metric(\"rmse\", rmse)\n",
    "\n",
    "\treturn {'loss': rmse, 'status': STATUS_OK}"
   ],
   "id": "aef8ace331e7a852",
   "outputs": [],
   "execution_count": 12
  },
  {
   "metadata": {
    "ExecuteTime": {
     "end_time": "2025-08-23T21:35:22.668079Z",
     "start_time": "2025-08-23T21:35:22.661493Z"
    }
   },
   "cell_type": "code",
   "source": [
    "search_space = {\n",
    "\t'max_depth': scope.int(hp.quniform('max_depth', 4, 100, 1)),\n",
    "\t'learning_rate': hp.loguniform('learning_rate', -3, 0),\n",
    "\t'reg_alpha': hp.loguniform('reg_alpha', -5, -1),\n",
    "\t'reg_lambda': hp.loguniform('reg_lambda', -6, -1),\n",
    "\t'min_child_weight': hp.loguniform('min_child_weight', -1, 3),\n",
    "\t'objective': 'reg:squarederror',\n",
    "\t'seed': 42\n",
    "}"
   ],
   "id": "8b77967d5609d21f",
   "outputs": [],
   "execution_count": 13
  },
  {
   "metadata": {
    "ExecuteTime": {
     "end_time": "2025-08-23T21:44:09.293014Z",
     "start_time": "2025-08-23T21:35:22.677182Z"
    }
   },
   "cell_type": "code",
   "source": [
    "best_result = fmin(\n",
    "\tfn=objective,\n",
    "\tspace=search_space,\n",
    "\talgo=tpe.suggest,\n",
    "\tmax_evals=50,\n",
    "\ttrials=Trials()\n",
    ")"
   ],
   "id": "bb5ce621dbf5818",
   "outputs": [
    {
     "name": "stdout",
     "output_type": "stream",
     "text": [
      "[0]\tvalidation-rmse:6.98495                           \n",
      "[54]\tvalidation-rmse:6.62901                          \n",
      "[0]\tvalidation-rmse:10.41351                                                   \n",
      "[300]\tvalidation-rmse:6.22006                                                  \n",
      "[600]\tvalidation-rmse:6.16142                                                  \n",
      "[900]\tvalidation-rmse:6.14989                                                  \n",
      "[999]\tvalidation-rmse:6.14873                                                  \n",
      "[0]\tvalidation-rmse:11.07054                                                   \n",
      "[76]\tvalidation-rmse:6.49067                                                   \n",
      "[0]\tvalidation-rmse:10.20753                                                   \n",
      "[63]\tvalidation-rmse:6.47254                                                   \n",
      "[0]\tvalidation-rmse:11.62480                                                   \n",
      "[273]\tvalidation-rmse:6.18682                                                  \n",
      "[0]\tvalidation-rmse:6.96551                                                    \n",
      "[53]\tvalidation-rmse:6.96148                                                   \n",
      "[0]\tvalidation-rmse:9.05561                                                    \n",
      "[58]\tvalidation-rmse:6.67905                                                   \n",
      "[0]\tvalidation-rmse:10.79568                                                   \n",
      "[101]\tvalidation-rmse:6.27229                                                  \n",
      "[0]\tvalidation-rmse:11.19425                                                   \n",
      "[100]\tvalidation-rmse:6.35250                                                  \n",
      "[0]\tvalidation-rmse:6.85129                                                    \n",
      "[51]\tvalidation-rmse:7.06023                                                   \n",
      "[0]\tvalidation-rmse:11.76437                                                    \n",
      "[189]\tvalidation-rmse:6.26559                                                   \n",
      "[0]\tvalidation-rmse:7.53854                                                     \n",
      "[53]\tvalidation-rmse:6.69684                                                    \n",
      "[0]\tvalidation-rmse:11.52792                                                    \n",
      "[93]\tvalidation-rmse:6.67253                                                    \n",
      "[0]\tvalidation-rmse:11.67376                                                    \n",
      "[300]\tvalidation-rmse:6.25882                                                   \n",
      "[600]\tvalidation-rmse:6.18031                                                   \n",
      "[900]\tvalidation-rmse:6.15265                                                   \n",
      "[999]\tvalidation-rmse:6.14972                                                   \n",
      "[0]\tvalidation-rmse:9.88475                                                     \n",
      "[61]\tvalidation-rmse:6.61102                                                    \n",
      "[0]\tvalidation-rmse:10.96831                                                    \n",
      "[78]\tvalidation-rmse:6.43264                                                    \n",
      "[0]\tvalidation-rmse:7.40194                                                     \n",
      "[59]\tvalidation-rmse:6.38268                                                    \n",
      "[0]\tvalidation-rmse:10.90724                                                    \n",
      "[72]\tvalidation-rmse:6.59189                                                    \n",
      "[0]\tvalidation-rmse:11.62139                                                    \n",
      "[300]\tvalidation-rmse:6.28825                                                   \n",
      "[600]\tvalidation-rmse:6.19537                                                   \n",
      "[900]\tvalidation-rmse:6.16256                                                   \n",
      "[999]\tvalidation-rmse:6.15535                                                   \n",
      "[0]\tvalidation-rmse:11.44747                                                    \n",
      "[95]\tvalidation-rmse:6.42561                                                    \n",
      "[0]\tvalidation-rmse:9.32383                                                     \n",
      "[300]\tvalidation-rmse:6.21345                                                   \n",
      "[454]\tvalidation-rmse:6.20770                                                   \n",
      "[0]\tvalidation-rmse:9.45432                                                     \n",
      "[91]\tvalidation-rmse:6.26327                                                    \n",
      "[0]\tvalidation-rmse:10.60651                                                    \n",
      "[221]\tvalidation-rmse:6.19952                                                   \n",
      "[0]\tvalidation-rmse:11.77072                                                    \n",
      "[259]\tvalidation-rmse:6.19886                                                   \n",
      "[0]\tvalidation-rmse:8.51324                                                     \n",
      "[300]\tvalidation-rmse:6.21198                                                   \n",
      "[362]\tvalidation-rmse:6.21050                                                   \n",
      "[0]\tvalidation-rmse:11.34099                                                    \n",
      "[300]\tvalidation-rmse:6.18207                                                   \n",
      "[302]\tvalidation-rmse:6.18209                                                   \n",
      "[0]\tvalidation-rmse:10.62369                                                    \n",
      "[132]\tvalidation-rmse:6.20982                                                   \n",
      "[0]\tvalidation-rmse:10.16674                                                    \n",
      "[172]\tvalidation-rmse:6.23482                                                   \n",
      "[0]\tvalidation-rmse:9.62875                                                     \n",
      "[66]\tvalidation-rmse:6.44505                                                    \n",
      "[0]\tvalidation-rmse:8.21323                                                     \n",
      "[104]\tvalidation-rmse:6.24496                                                   \n",
      "[0]\tvalidation-rmse:11.27772                                                    \n",
      "[124]\tvalidation-rmse:6.24538                                                   \n",
      "[0]\tvalidation-rmse:10.48557                                                    \n",
      "[279]\tvalidation-rmse:6.16346                                                   \n",
      "[0]\tvalidation-rmse:11.71427                                                    \n",
      "[300]\tvalidation-rmse:6.21101                                                   \n",
      "[395]\tvalidation-rmse:6.21267                                                   \n",
      "[0]\tvalidation-rmse:8.69843                                                     \n",
      "[54]\tvalidation-rmse:6.76350                                                    \n",
      "[0]\tvalidation-rmse:9.76666                                                     \n",
      "[71]\tvalidation-rmse:6.44427                                                    \n",
      "[0]\tvalidation-rmse:10.28678                                                    \n",
      "[111]\tvalidation-rmse:6.22127                                                   \n",
      "[0]\tvalidation-rmse:11.47342                                                    \n",
      "[300]\tvalidation-rmse:6.40664                                                   \n",
      "[600]\tvalidation-rmse:6.30952                                                   \n",
      "[900]\tvalidation-rmse:6.25639                                                   \n",
      "[999]\tvalidation-rmse:6.24474                                                   \n",
      "[0]\tvalidation-rmse:11.12277                                                    \n",
      "[157]\tvalidation-rmse:6.19583                                                   \n",
      "[0]\tvalidation-rmse:10.78399                                                    \n",
      "[96]\tvalidation-rmse:6.23556                                                    \n",
      "[0]\tvalidation-rmse:11.71910                                                    \n",
      "[229]\tvalidation-rmse:6.24426                                                   \n",
      "[0]\tvalidation-rmse:10.80361                                                    \n",
      "[78]\tvalidation-rmse:6.37218                                                    \n",
      "[0]\tvalidation-rmse:8.68354                                                     \n",
      "[55]\tvalidation-rmse:6.82658                                                    \n",
      "[0]\tvalidation-rmse:11.39832                                                    \n",
      "[300]\tvalidation-rmse:6.16524                                                   \n",
      "[317]\tvalidation-rmse:6.16784                                                   \n",
      "[0]\tvalidation-rmse:11.19617                                                    \n",
      "[86]\tvalidation-rmse:6.35699                                                    \n",
      "[0]\tvalidation-rmse:11.50779                                                    \n",
      "[300]\tvalidation-rmse:6.20983                                                   \n",
      "[557]\tvalidation-rmse:6.19226                                                   \n",
      "[0]\tvalidation-rmse:11.66793                                                    \n",
      "[250]\tvalidation-rmse:6.20898                                                   \n",
      "[0]\tvalidation-rmse:6.94694                                                     \n",
      "[66]\tvalidation-rmse:6.40051                                                    \n",
      "[0]\tvalidation-rmse:7.43845                                                     \n",
      "[56]\tvalidation-rmse:6.60830                                                    \n",
      "[0]\tvalidation-rmse:11.80130                                                    \n",
      "[300]\tvalidation-rmse:6.18015                                                   \n",
      "[351]\tvalidation-rmse:6.18164                                                   \n",
      "[0]\tvalidation-rmse:11.04437                                                    \n",
      "[300]\tvalidation-rmse:6.16436                                                   \n",
      "[543]\tvalidation-rmse:6.15631                                                   \n",
      "100%|██████████| 50/50 [08:46<00:00, 10.53s/trial, best loss: 6.148732748975126]\n"
     ]
    }
   ],
   "execution_count": 14
  },
  {
   "metadata": {},
   "cell_type": "markdown",
   "source": "### Autologging",
   "id": "cf4da3c557a673e9"
  },
  {
   "metadata": {
    "ExecuteTime": {
     "end_time": "2025-08-23T21:47:48.798991Z",
     "start_time": "2025-08-23T21:47:48.762800Z"
    }
   },
   "cell_type": "code",
   "source": "mlflow.xgboost.autolog(log_model_signatures=False)",
   "id": "75089004786435e5",
   "outputs": [],
   "execution_count": 21
  },
  {
   "metadata": {
    "ExecuteTime": {
     "end_time": "2025-08-23T21:47:49.085267Z",
     "start_time": "2025-08-23T21:47:49.078216Z"
    }
   },
   "cell_type": "code",
   "source": [
    "# validation error-minimizing hyperparameters\n",
    "best_params = {\n",
    "\t'max_depth': 5,\n",
    "\t'learning_rate': 0.23715143477757672,\n",
    "\t'reg_alpha': 0.29589745072951656,\n",
    "\t'reg_lambda': 0.10173631418115409,\n",
    "\t'min_child_weight': 4.647738859007117,\n",
    "\t'seed': 42\n",
    "}"
   ],
   "id": "249392a3b5ad7a1f",
   "outputs": [],
   "execution_count": 22
  },
  {
   "metadata": {
    "ExecuteTime": {
     "end_time": "2025-08-23T21:48:40.512848Z",
     "start_time": "2025-08-23T21:47:49.658901Z"
    }
   },
   "cell_type": "code",
   "source": [
    "booster = xgb.train(\n",
    "\tparams=best_params,\n",
    "\tdtrain=train,\n",
    "\tnum_boost_round=1000,\n",
    "\tevals=[(valid, \"validation\")],\n",
    "\tearly_stopping_rounds=50,\n",
    "\tverbose_eval=300\n",
    ")"
   ],
   "id": "7e2729ff126ac4b4",
   "outputs": [
    {
     "name": "stderr",
     "output_type": "stream",
     "text": [
      "2025/08/23 23:47:49 INFO mlflow.utils.autologging_utils: Created MLflow autologging run with ID 'b04971251c7c420c82999d22d5bea9dd', which will track hyperparameters, performance metrics, model artifacts, and lineage information for the current xgboost workflow\n"
     ]
    },
    {
     "name": "stdout",
     "output_type": "stream",
     "text": [
      "[0]\tvalidation-rmse:10.41351\n",
      "[300]\tvalidation-rmse:6.22006\n",
      "[600]\tvalidation-rmse:6.16142\n",
      "[900]\tvalidation-rmse:6.14989\n",
      "[999]\tvalidation-rmse:6.14873\n"
     ]
    },
    {
     "name": "stderr",
     "output_type": "stream",
     "text": [
      "2025/08/23 23:48:28 WARNING mlflow.models.model: `artifact_path` is deprecated. Please use `name` instead.\n",
      "2025/08/23 23:48:29 WARNING mlflow.utils.autologging_utils: MLflow autologging encountered a warning: \"/Users/bastienwinant/Desktop/projects/mlops-zoomcamp/.venv/lib/python3.9/site-packages/xgboost/core.py:158: UserWarning: [23:48:29] WARNING: /Users/runner/work/xgboost/xgboost/src/c_api/c_api.cc:1374: Saving model in the UBJSON format as default.  You can use file extension: `json`, `ubj` or `deprecated` to choose between formats.\"\n",
      "\u001B[31m2025/08/23 23:48:37 WARNING mlflow.models.model: Model logged without a signature and input example. Please set `input_example` parameter when logging the model to auto infer the model signature.\u001B[0m\n"
     ]
    }
   ],
   "execution_count": 23
  },
  {
   "metadata": {},
   "cell_type": "code",
   "outputs": [],
   "execution_count": null,
   "source": "",
   "id": "2d0de61858bbc849"
  }
 ],
 "metadata": {
  "kernelspec": {
   "display_name": ".venv",
   "language": "python",
   "name": "python3"
  },
  "language_info": {
   "codemirror_mode": {
    "name": "ipython",
    "version": 3
   },
   "file_extension": ".py",
   "mimetype": "text/x-python",
   "name": "python",
   "nbconvert_exporter": "python",
   "pygments_lexer": "ipython3",
   "version": "3.12.1"
  }
 },
 "nbformat": 4,
 "nbformat_minor": 5
}
