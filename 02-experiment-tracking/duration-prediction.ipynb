{
 "cells": [
  {
   "cell_type": "markdown",
   "id": "4714171a",
   "metadata": {},
   "source": [
    "# Training a ride duration prediction model"
   ]
  },
  {
   "cell_type": "code",
   "id": "81d3f186",
   "metadata": {
    "ExecuteTime": {
     "end_time": "2025-08-21T21:31:43.551428Z",
     "start_time": "2025-08-21T21:31:33.978384Z"
    }
   },
   "source": [
    "import numpy as np\n",
    "import pandas as pd\n",
    "import matplotlib.pyplot as plt\n",
    "import seaborn as sns\n",
    "from sklearn.preprocessing import OneHotEncoder\n",
    "from sklearn.linear_model import LinearRegression, Lasso, Ridge\n",
    "from sklearn.metrics import root_mean_squared_error\n",
    "import mlflow\n",
    "from hyperopt import hp, tpe, Trials, STATUS_OK\n",
    "from hyperopt.pyll import scope"
   ],
   "outputs": [
    {
     "name": "stderr",
     "output_type": "stream",
     "text": [
      "/Users/bastienwinant/Desktop/projects/mlops-zoomcamp/.venv/lib/python3.9/site-packages/urllib3/__init__.py:35: NotOpenSSLWarning: urllib3 v2 only supports OpenSSL 1.1.1+, currently the 'ssl' module is compiled with 'LibreSSL 2.8.3'. See: https://github.com/urllib3/urllib3/issues/3020\n",
      "  warnings.warn(\n"
     ]
    }
   ],
   "execution_count": 1
  },
  {
   "metadata": {
    "ExecuteTime": {
     "end_time": "2025-08-21T21:31:45.177524Z",
     "start_time": "2025-08-21T21:31:43.581343Z"
    }
   },
   "cell_type": "code",
   "source": [
    "# mlflow ui --backend-store-uri sqlite:///mlflow.db\n",
    "mlflow.set_tracking_uri(\"sqlite:///mlflow.db\")\n",
    "mlflow.set_experiment(\"nyc-taxi-experiment\")"
   ],
   "id": "5403c779e085faba",
   "outputs": [
    {
     "name": "stderr",
     "output_type": "stream",
     "text": [
      "2025/08/21 23:31:44 INFO mlflow.store.db.utils: Creating initial MLflow database tables...\n",
      "2025/08/21 23:31:44 INFO mlflow.store.db.utils: Updating database tables\n",
      "INFO  [alembic.runtime.migration] Context impl SQLiteImpl.\n",
      "INFO  [alembic.runtime.migration] Will assume non-transactional DDL.\n",
      "INFO  [alembic.runtime.migration] Context impl SQLiteImpl.\n",
      "INFO  [alembic.runtime.migration] Will assume non-transactional DDL.\n",
      "2025/08/21 23:31:45 INFO mlflow.tracking.fluent: Experiment with name 'nyc-taxi-experiment' does not exist. Creating a new experiment.\n"
     ]
    },
    {
     "data": {
      "text/plain": [
       "<Experiment: artifact_location='/Users/bastienwinant/Desktop/projects/mlops-zoomcamp/02-experiment-tracking/mlruns/1', creation_time=1755811905130, experiment_id='1', last_update_time=1755811905130, lifecycle_stage='active', name='nyc-taxi-experiment', tags={}>"
      ]
     },
     "execution_count": 2,
     "metadata": {},
     "output_type": "execute_result"
    }
   ],
   "execution_count": 2
  },
  {
   "metadata": {
    "ExecuteTime": {
     "end_time": "2025-08-21T21:31:56.988533Z",
     "start_time": "2025-08-21T21:31:56.978753Z"
    }
   },
   "cell_type": "code",
   "source": [
    "def one_hot_encoding(df, categories, enc=None):\n",
    "\tdf_categorical = df[categories].reset_index(drop=True)\n",
    "\tX_numerical = df.drop(categories, axis=1).reset_index(drop=True)\n",
    "\n",
    "\tif not enc:\n",
    "\t\tenc = OneHotEncoder(dtype=np.int32, handle_unknown='ignore')\n",
    "\t\tenc.fit(df_categorical)\n",
    "\n",
    "\tX_categorical = pd.DataFrame(\n",
    "\t\tdata=enc.transform(df_categorical).toarray(),\n",
    "\t\tcolumns=enc.get_feature_names_out()\n",
    "\t)\n",
    "\n",
    "\tX = pd.concat([X_numerical, X_categorical], axis=1)\n",
    "\n",
    "\treturn X, enc"
   ],
   "id": "abfa285afe68e2b8",
   "outputs": [],
   "execution_count": 3
  },
  {
   "cell_type": "code",
   "id": "4c951909",
   "metadata": {
    "ExecuteTime": {
     "end_time": "2025-08-21T21:31:58.323849Z",
     "start_time": "2025-08-21T21:31:58.311454Z"
    }
   },
   "source": [
    "def preprocessing(url, categorical, numerical, enc=None):\n",
    "\t# read in the raw data\n",
    "\tdf = pd.read_parquet(url)\n",
    "\tdf[categorical] = df[categorical].astype(str)\n",
    "\n",
    "    # compute duration of a trip in minutes and minutes\n",
    "\tdf['duration'] = (df.lpep_dropoff_datetime - df.lpep_pickup_datetime) / pd.Timedelta(minutes=1)\n",
    "\tdf = df.loc[(df.duration >= 1) & (df.duration <= 60)]\n",
    "\n",
    "\tdf['PU_DO'] = df.PULocationID.str.cat(df.DOLocationID, sep='_')\n",
    "\tcategorical = ['PU_DO']\n",
    "\n",
    "\tdf = df[categorical + numerical + ['duration']]\n",
    "\tX, enc = one_hot_encoding(df, categorical, enc=enc)\n",
    "\n",
    "\ty = X.duration\n",
    "\tX.drop('duration', axis=1, inplace=True)\n",
    "\n",
    "\treturn X.values, y.values, enc"
   ],
   "outputs": [],
   "execution_count": 4
  },
  {
   "cell_type": "code",
   "id": "8af981af",
   "metadata": {
    "ExecuteTime": {
     "end_time": "2025-08-21T21:31:59.426776Z",
     "start_time": "2025-08-21T21:31:59.421734Z"
    }
   },
   "source": [
    "url_train = \"https://d37ci6vzurychx.cloudfront.net/trip-data/green_tripdata_2021-01.parquet\"\n",
    "url_val = \"https://d37ci6vzurychx.cloudfront.net/trip-data/green_tripdata_2021-02.parquet\""
   ],
   "outputs": [],
   "execution_count": 5
  },
  {
   "cell_type": "code",
   "id": "ae45abb4",
   "metadata": {
    "ExecuteTime": {
     "end_time": "2025-08-21T21:32:00.484446Z",
     "start_time": "2025-08-21T21:32:00.479988Z"
    }
   },
   "source": [
    "categorical = ['PULocationID', 'DOLocationID']\n",
    "numerical = ['trip_distance']"
   ],
   "outputs": [],
   "execution_count": 6
  },
  {
   "cell_type": "code",
   "id": "310645d6",
   "metadata": {
    "ExecuteTime": {
     "end_time": "2025-08-21T21:33:49.901752Z",
     "start_time": "2025-08-21T21:32:01.319638Z"
    }
   },
   "source": [
    "X_train, y_train, enc = preprocessing(\n",
    "\turl=url_train, categorical=categorical, numerical=numerical, enc=None)\n",
    "X_val, y_val, _ = preprocessing(\n",
    "\turl=url_val, categorical=categorical, numerical=numerical, enc=enc)"
   ],
   "outputs": [],
   "execution_count": 7
  },
  {
   "metadata": {
    "ExecuteTime": {
     "end_time": "2025-08-21T21:37:11.479848Z",
     "start_time": "2025-08-21T21:34:52.664729Z"
    }
   },
   "cell_type": "code",
   "source": [
    "alpha = .01\n",
    "lasso = Lasso(alpha)\n",
    "lasso.fit(X_train, y_train)\n",
    "y_pred = lasso.predict(X_val)\n",
    "rmse = root_mean_squared_error(y_val, y_pred)"
   ],
   "id": "6839d26ccc5ed8b3",
   "outputs": [],
   "execution_count": 8
  },
  {
   "metadata": {
    "ExecuteTime": {
     "end_time": "2025-08-21T21:37:13.277222Z",
     "start_time": "2025-08-21T21:37:11.661684Z"
    }
   },
   "cell_type": "code",
   "source": [
    "with mlflow.start_run():\n",
    "\tmlflow.set_tag(\"developer\", \"bastien winant\")\n",
    "\n",
    "\tmlflow.log_param(\"train-data\", url_train)\n",
    "\tmlflow.log_param(\"valid-data\", url_val)\n",
    "\n",
    "\tmlflow.log_param(\"alpha\", alpha)\n",
    "\n",
    "\tmlflow.log_metric(\"rmse\", rmse)"
   ],
   "id": "1b1f6056d7b1d1cd",
   "outputs": [],
   "execution_count": 9
  },
  {
   "metadata": {},
   "cell_type": "code",
   "outputs": [],
   "execution_count": null,
   "source": "",
   "id": "a8bd82483752061d"
  }
 ],
 "metadata": {
  "kernelspec": {
   "display_name": ".venv",
   "language": "python",
   "name": "python3"
  },
  "language_info": {
   "codemirror_mode": {
    "name": "ipython",
    "version": 3
   },
   "file_extension": ".py",
   "mimetype": "text/x-python",
   "name": "python",
   "nbconvert_exporter": "python",
   "pygments_lexer": "ipython3",
   "version": "3.12.1"
  }
 },
 "nbformat": 4,
 "nbformat_minor": 5
}
