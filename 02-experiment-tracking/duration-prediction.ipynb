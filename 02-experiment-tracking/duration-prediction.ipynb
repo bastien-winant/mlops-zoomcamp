{
 "cells": [
  {
   "cell_type": "markdown",
   "id": "4714171a",
   "metadata": {},
   "source": [
    "# Training a ride duration prediction model"
   ]
  },
  {
   "cell_type": "code",
   "id": "81d3f186",
   "metadata": {
    "ExecuteTime": {
     "end_time": "2025-08-20T21:52:37.711790Z",
     "start_time": "2025-08-20T21:52:04.753689Z"
    }
   },
   "source": [
    "import numpy as np\n",
    "import pandas as pd\n",
    "import matplotlib.pyplot as plt\n",
    "import seaborn as sns\n",
    "from sklearn.preprocessing import OneHotEncoder\n",
    "from sklearn.linear_model import LinearRegression, Lasso, Ridge\n",
    "from sklearn.metrics import root_mean_squared_error\n",
    "import mlflow\n",
    "from hyperopt import hp, tpe, Trials, STATUS_OK\n",
    "from hyperopt.pyll import scope"
   ],
   "outputs": [],
   "execution_count": 1
  },
  {
   "metadata": {},
   "cell_type": "code",
   "outputs": [],
   "execution_count": null,
   "source": [
    "mlflow ui --backend-store-uri sqlite:///mlflow.db\n",
    "mlflow.set_experiment(\"nyc-taxi-experiment\")"
   ],
   "id": "5403c779e085faba"
  },
  {
   "metadata": {
    "ExecuteTime": {
     "end_time": "2025-08-20T21:52:37.787627Z",
     "start_time": "2025-08-20T21:52:37.773347Z"
    }
   },
   "cell_type": "code",
   "source": [
    "def one_hot_encoding(df, categories, enc=None):\n",
    "\tdf_categorical = df[categories].reset_index(drop=True)\n",
    "\tX_numerical = df.drop(categories, axis=1).reset_index(drop=True)\n",
    "\n",
    "\tif not enc:\n",
    "\t\tenc = OneHotEncoder(dtype=np.int32, handle_unknown='ignore')\n",
    "\t\tenc.fit(df_categorical)\n",
    "\n",
    "\tX_categorical = pd.DataFrame(\n",
    "\t\tdata=enc.transform(df_categorical).toarray(),\n",
    "\t\tcolumns=enc.get_feature_names_out()\n",
    "\t)\n",
    "\n",
    "\tX = pd.concat([X_numerical, X_categorical], axis=1)\n",
    "\n",
    "\treturn X, enc"
   ],
   "id": "abfa285afe68e2b8",
   "outputs": [],
   "execution_count": 2
  },
  {
   "cell_type": "code",
   "id": "4c951909",
   "metadata": {
    "ExecuteTime": {
     "end_time": "2025-08-20T21:52:37.837889Z",
     "start_time": "2025-08-20T21:52:37.816247Z"
    }
   },
   "source": [
    "def preprocessing(url, categorical, numerical, enc=None):\n",
    "\t# read in the raw data\n",
    "\tdf = pd.read_parquet(url)\n",
    "\tdf[categorical] = df[categorical].astype(str)\n",
    "\n",
    "    # compute duration of a trip in minutes and minutes\n",
    "\tdf['duration'] = (df.lpep_dropoff_datetime - df.lpep_pickup_datetime) / pd.Timedelta(minutes=1)\n",
    "\tdf = df.loc[(df.duration >= 1) & (df.duration <= 60)]\n",
    "\n",
    "\tdf['PU_DO'] = df.PULocationID.str.cat(df.DOLocationID, sep='_')\n",
    "\tcategorical = ['PU_DO']\n",
    "\n",
    "\tdf = df[categorical + numerical + ['duration']]\n",
    "\tX, enc = one_hot_encoding(df, categorical, enc=enc)\n",
    "\n",
    "\ty = X.duration\n",
    "\tX.drop('duration', axis=1, inplace=True)\n",
    "\n",
    "\treturn X.values, y.values, enc"
   ],
   "outputs": [],
   "execution_count": 3
  },
  {
   "cell_type": "code",
   "id": "8af981af",
   "metadata": {
    "ExecuteTime": {
     "end_time": "2025-08-20T21:52:37.954753Z",
     "start_time": "2025-08-20T21:52:37.905061Z"
    }
   },
   "source": [
    "url_train = \"https://d37ci6vzurychx.cloudfront.net/trip-data/green_tripdata_2021-01.parquet\"\n",
    "url_val = \"https://d37ci6vzurychx.cloudfront.net/trip-data/green_tripdata_2021-02.parquet\""
   ],
   "outputs": [],
   "execution_count": 4
  },
  {
   "cell_type": "code",
   "id": "ae45abb4",
   "metadata": {
    "ExecuteTime": {
     "end_time": "2025-08-20T21:52:38.153328Z",
     "start_time": "2025-08-20T21:52:38.145405Z"
    }
   },
   "source": [
    "categorical = ['PULocationID', 'DOLocationID']\n",
    "numerical = ['trip_distance']"
   ],
   "outputs": [],
   "execution_count": 5
  },
  {
   "cell_type": "code",
   "id": "310645d6",
   "metadata": {
    "jupyter": {
     "is_executing": true
    },
    "ExecuteTime": {
     "start_time": "2025-08-20T21:52:38.202974Z"
    }
   },
   "source": [
    "X_train, y_train, enc = preprocessing(\n",
    "\turl=url_train, categorical=categorical, numerical=numerical, enc=None)\n",
    "X_val, y_val, _ = preprocessing(\n",
    "\turl=url_val, categorical=categorical, numerical=numerical, enc=enc)"
   ],
   "outputs": [],
   "execution_count": null
  }
 ],
 "metadata": {
  "kernelspec": {
   "display_name": ".venv",
   "language": "python",
   "name": "python3"
  },
  "language_info": {
   "codemirror_mode": {
    "name": "ipython",
    "version": 3
   },
   "file_extension": ".py",
   "mimetype": "text/x-python",
   "name": "python",
   "nbconvert_exporter": "python",
   "pygments_lexer": "ipython3",
   "version": "3.12.1"
  }
 },
 "nbformat": 4,
 "nbformat_minor": 5
}
